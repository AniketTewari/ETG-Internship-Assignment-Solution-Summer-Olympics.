{
  "nbformat": 4,
  "nbformat_minor": 0,
  "metadata": {
    "colab": {
      "name": "Aniket Tewari - ETG Summer Olympics Assignment Solution.",
      "provenance": [],
      "collapsed_sections": [],
      "mount_file_id": "1UTrgo1lsD5u3WzEqnhCj9auM893RwFGq",
      "authorship_tag": "ABX9TyP8T2iCp/KbJgBOD8Y8rZFA",
      "include_colab_link": true
    },
    "kernelspec": {
      "name": "python3",
      "display_name": "Python 3"
    },
    "language_info": {
      "name": "python"
    }
  },
  "cells": [
    {
      "cell_type": "markdown",
      "metadata": {
        "id": "view-in-github",
        "colab_type": "text"
      },
      "source": [
        "<a href=\"https://colab.research.google.com/github/AniketTewari/ETG-Internship-Assignment-Solution-Summer-Olympics./blob/main/Aniket_Tewari_ETG_Summer_Olympics_Assignment_Solution_.ipynb\" target=\"_parent\"><img src=\"https://colab.research.google.com/assets/colab-badge.svg\" alt=\"Open In Colab\"/></a>"
      ]
    },
    {
      "cell_type": "markdown",
      "metadata": {
        "id": "ertJipnkK74f"
      },
      "source": [
        "Summer  Olympics Data Analysis Assignment"
      ]
    },
    {
      "cell_type": "code",
      "metadata": {
        "id": "9KWkJl8xQlHh"
      },
      "source": [
        "import pandas as pd\n",
        "import matplotlib.pyplot as plt"
      ],
      "execution_count": null,
      "outputs": []
    },
    {
      "cell_type": "code",
      "metadata": {
        "id": "YrRWVX7iQla9"
      },
      "source": [
        "df=pd.read_csv(\"summer.csv\")"
      ],
      "execution_count": null,
      "outputs": []
    },
    {
      "cell_type": "markdown",
      "metadata": {
        "id": "8MD-mDE1LAj3"
      },
      "source": [
        "*1. In  how many cities Summer Olympics is held so far?*"
      ]
    },
    {
      "cell_type": "code",
      "metadata": {
        "colab": {
          "base_uri": "https://localhost:8080/"
        },
        "id": "uLVrwuYwGx73",
        "outputId": "4e7dc121-f9df-473b-fa8b-1d50ea1feb88"
      },
      "source": [
        "a=len(pd.unique(df['City']))\n",
        "print(\"The No. of Cities in which the Summer Olympics is held so far is= \\n\")\n",
        "print(a)"
      ],
      "execution_count": null,
      "outputs": [
        {
          "output_type": "stream",
          "name": "stdout",
          "text": [
            "The No. of Cities in which the Summer Olympics is held so far is= \n",
            "\n",
            "22\n"
          ]
        }
      ]
    },
    {
      "cell_type": "code",
      "metadata": {
        "id": "zw_ysnNQG2vc"
      },
      "source": [
        ""
      ],
      "execution_count": null,
      "outputs": []
    },
    {
      "cell_type": "markdown",
      "metadata": {
        "id": "1r6CVRNLLMHH"
      },
      "source": [
        "*2. Which sport is having most number of Gold Medals so far? (Top 5)*"
      ]
    },
    {
      "cell_type": "code",
      "metadata": {
        "colab": {
          "base_uri": "https://localhost:8080/"
        },
        "id": "edZSLqpsE6CU",
        "outputId": "1019ca11-5733-427c-87f5-3a2e4a55990c"
      },
      "source": [
        "#Printing only Top Sports Name\n",
        "\n",
        "b=df['Sport'][df['Medal'] ==\"Gold\"].value_counts()\n",
        "print(\"The Required Sport with most no. of Gold Medals is= \\n\")\n",
        "b.nlargest(1)"
      ],
      "execution_count": null,
      "outputs": [
        {
          "output_type": "stream",
          "name": "stdout",
          "text": [
            "The Required Sport with most no. of Gold Medals is= \n",
            "\n"
          ]
        },
        {
          "output_type": "execute_result",
          "data": {
            "text/plain": [
              "Aquatics    1421\n",
              "Name: Sport, dtype: int64"
            ]
          },
          "metadata": {},
          "execution_count": 31
        }
      ]
    },
    {
      "cell_type": "code",
      "metadata": {
        "colab": {
          "base_uri": "https://localhost:8080/"
        },
        "id": "hvL7_SAEE6yI",
        "outputId": "ed6bb72a-136e-4d33-968f-2d249b74ac62"
      },
      "source": [
        "#Printing Top 5 Sports Name and as well as plotting Bar Graph\n",
        "\n",
        "b=df['Sport'][df['Medal'] ==\"Gold\"].value_counts()\n",
        "print(\"The Required Sport with most no. of Gold Medals is= \\n\")\n",
        "b.nlargest(5)"
      ],
      "execution_count": null,
      "outputs": [
        {
          "output_type": "stream",
          "name": "stdout",
          "text": [
            "The Required Sport with most no. of Gold Medals is= \n",
            "\n"
          ]
        },
        {
          "output_type": "execute_result",
          "data": {
            "text/plain": [
              "Aquatics      1421\n",
              "Athletics     1215\n",
              "Rowing         890\n",
              "Gymnastics     820\n",
              "Fencing        552\n",
              "Name: Sport, dtype: int64"
            ]
          },
          "metadata": {},
          "execution_count": 32
        }
      ]
    },
    {
      "cell_type": "code",
      "metadata": {
        "colab": {
          "base_uri": "https://localhost:8080/",
          "height": 361
        },
        "id": "CvzfHMPkE625",
        "outputId": "5d6a4ef3-fbe0-40b6-8eef-7225a2bef962"
      },
      "source": [
        "#Printing Top 5 Sports Name and as well as plotting Bar Graph\n",
        "\n",
        "b=df['Sport'][df['Medal'] ==\"Gold\"].value_counts()\n",
        "b.nlargest(5).plot.bar()\n",
        "plt.xlabel('Name of the Athlete')\n",
        "plt.ylabel('No. Of Gold Medals Won')\n",
        "plt.title('Graph drawn by Aniket Tewari')"
      ],
      "execution_count": null,
      "outputs": [
        {
          "output_type": "execute_result",
          "data": {
            "text/plain": [
              "Text(0.5, 1.0, 'Graph drawn by Aniket Tewari')"
            ]
          },
          "metadata": {},
          "execution_count": 33
        },
        {
          "output_type": "display_data",
          "data": {
            "image/png": "[encoded data removed]",
            "text/plain": [
              "<Figure size 432x288 with 1 Axes>"
            ]
          },
          "metadata": {
            "needs_background": "light"
          }
        }
      ]
    },
    {
      "cell_type": "code",
      "metadata": {
        "id": "XhnYL8VvFSmg"
      },
      "source": [
        ""
      ],
      "execution_count": null,
      "outputs": []
    },
    {
      "cell_type": "markdown",
      "metadata": {
        "id": "4Yj0E-XPLRim"
      },
      "source": [
        "*3. Which sport is having most number of medals so far? (Top 5)*"
      ]
    },
    {
      "cell_type": "code",
      "metadata": {
        "colab": {
          "base_uri": "https://localhost:8080/"
        },
        "id": "ZtGmqFBOFUwg",
        "outputId": "eb8ac278-e78b-49ee-f92e-4fb28d0da09d"
      },
      "source": [
        "#Printing only Top Sports Name\n",
        "\n",
        "c=(df['Sport'][df['Medal']==\"Gold\"].value_counts()) + (df['Sport'][df['Medal']==\"Silver\"].value_counts()) + (df['Sport'][df['Medal']==\"Bronze\"].value_counts())\n",
        "print(\"The Required Sport with most no. of Medals is= \\n\")\n",
        "c.nlargest(1)"
      ],
      "execution_count": null,
      "outputs": [
        {
          "output_type": "stream",
          "name": "stdout",
          "text": [
            "The Required Sport with most no. of Medals is= \n",
            "\n"
          ]
        },
        {
          "output_type": "execute_result",
          "data": {
            "text/plain": [
              "Aquatics    4170.0\n",
              "Name: Sport, dtype: float64"
            ]
          },
          "metadata": {},
          "execution_count": 34
        }
      ]
    },
    {
      "cell_type": "code",
      "metadata": {
        "colab": {
          "base_uri": "https://localhost:8080/"
        },
        "id": "03zpwaCkFVnB",
        "outputId": "cabf00c9-8082-41c2-b00f-f8e6e4c8e337"
      },
      "source": [
        "#Printing Top 5 Sports Name and as well as plotting Bar Graph\n",
        "\n",
        "c=(df['Sport'][df['Medal']==\"Gold\"].value_counts()) + (df['Sport'][df['Medal']==\"Silver\"].value_counts()) + (df['Sport'][df['Medal']==\"Bronze\"].value_counts())\n",
        "print(\"The Required Sport with most no. of Medals is= \\n\")\n",
        "c.nlargest(5)"
      ],
      "execution_count": null,
      "outputs": [
        {
          "output_type": "stream",
          "name": "stdout",
          "text": [
            "The Required Sport with most no. of Medals is= \n",
            "\n"
          ]
        },
        {
          "output_type": "execute_result",
          "data": {
            "text/plain": [
              "Aquatics      4170.0\n",
              "Athletics     3638.0\n",
              "Rowing        2667.0\n",
              "Gymnastics    2307.0\n",
              "Fencing       1613.0\n",
              "Name: Sport, dtype: float64"
            ]
          },
          "metadata": {},
          "execution_count": 35
        }
      ]
    },
    {
      "cell_type": "code",
      "metadata": {
        "colab": {
          "base_uri": "https://localhost:8080/",
          "height": 361
        },
        "id": "0k1_NX0LFWOn",
        "outputId": "616af2b6-9c1a-48fd-e887-c70e45350950"
      },
      "source": [
        "#Printing Top 5 Sports Name and as well as plotting Bar Graph\n",
        "\n",
        "c=(df['Sport'][df['Medal']==\"Gold\"].value_counts()) + (df['Sport'][df['Medal']==\"Silver\"].value_counts()) + (df['Sport'][df['Medal']==\"Bronze\"].value_counts())\n",
        "c.nlargest(5).plot.bar() \n",
        "plt.xlabel('Name of the Athlete')\n",
        "plt.ylabel('No. Of Medals Won')\n",
        "plt.title('Graph drawn by Aniket Tewari')"
      ],
      "execution_count": null,
      "outputs": [
        {
          "output_type": "execute_result",
          "data": {
            "text/plain": [
              "Text(0.5, 1.0, 'Graph drawn by Aniket Tewari')"
            ]
          },
          "metadata": {},
          "execution_count": 36
        },
        {
          "output_type": "display_data",
          "data": {
            "image/png": "[encoded data removed]",
            "text/plain": [
              "<Figure size 432x288 with 1 Axes>"
            ]
          },
          "metadata": {
            "needs_background": "light"
          }
        }
      ]
    },
    {
      "cell_type": "code",
      "metadata": {
        "id": "MW1JaZP7FWmd"
      },
      "source": [
        ""
      ],
      "execution_count": null,
      "outputs": []
    },
    {
      "cell_type": "markdown",
      "metadata": {
        "id": "Dul5BsPFLV5s"
      },
      "source": [
        "*4. Which player has won most number of medals? (Top 5)*"
      ]
    },
    {
      "cell_type": "code",
      "metadata": {
        "colab": {
          "base_uri": "https://localhost:8080/"
        },
        "id": "1V21sMv3FW9W",
        "outputId": "415c33ab-8724-435b-c854-dd78e3b12c9c"
      },
      "source": [
        "#Printing only Top Athlete Name\n",
        "\n",
        "d=(df['Athlete'][df['Medal'] ==\"Gold\"].value_counts()) + (df['Athlete'][df['Medal'] ==\"Silver\"].value_counts()) + (df['Athlete'][df['Medal'] ==\"Bronze\"].value_counts())\n",
        "print(\"The Required Athlete with most no. of Medals is= \\n\")\n",
        "d.nlargest(1)"
      ],
      "execution_count": null,
      "outputs": [
        {
          "output_type": "stream",
          "name": "stdout",
          "text": [
            "The Required Athlete with most no. of Medals is= \n",
            "\n"
          ]
        },
        {
          "output_type": "execute_result",
          "data": {
            "text/plain": [
              "PHELPS, Michael    22.0\n",
              "Name: Athlete, dtype: float64"
            ]
          },
          "metadata": {},
          "execution_count": 37
        }
      ]
    },
    {
      "cell_type": "code",
      "metadata": {
        "colab": {
          "base_uri": "https://localhost:8080/"
        },
        "id": "VN-TcEYMFXiA",
        "outputId": "b94a5b75-a899-4376-b738-538db92e14e3"
      },
      "source": [
        "#Printing Top 5 Athlete Names and as well as plotting Bar Graph\n",
        "\n",
        "d=(df['Athlete'][df['Medal'] ==\"Gold\"].value_counts()) + (df['Athlete'][df['Medal'] ==\"Silver\"].value_counts()) + (df['Athlete'][df['Medal'] ==\"Bronze\"].value_counts())\n",
        "print(\"The Required Athlete with most no. of Medals is= \\n\")\n",
        "d.nlargest(5)"
      ],
      "execution_count": null,
      "outputs": [
        {
          "output_type": "stream",
          "name": "stdout",
          "text": [
            "The Required Athlete with most no. of Medals is= \n",
            "\n"
          ]
        },
        {
          "output_type": "execute_result",
          "data": {
            "text/plain": [
              "PHELPS, Michael         22.0\n",
              "LATYNINA, Larisa        18.0\n",
              "ANDRIANOV, Nikolay      15.0\n",
              "MANGIAROTTI, Edoardo    13.0\n",
              "ONO, Takashi            13.0\n",
              "Name: Athlete, dtype: float64"
            ]
          },
          "metadata": {},
          "execution_count": 38
        }
      ]
    },
    {
      "cell_type": "code",
      "metadata": {
        "colab": {
          "base_uri": "https://localhost:8080/",
          "height": 420
        },
        "id": "Bxqy-KQhFYQA",
        "outputId": "24b4d5e4-773e-402c-a153-04c76f5dfd42"
      },
      "source": [
        "#Printing Top 5 Athlete Names and as well as plotting Bar Graph\n",
        "\n",
        "d=(df['Athlete'][df['Medal'] ==\"Gold\"].value_counts()) + (df['Athlete'][df['Medal'] ==\"Silver\"].value_counts()) + (df['Athlete'][df['Medal'] ==\"Bronze\"].value_counts())\n",
        "d.nlargest(5).plot.bar() \n",
        "plt.xlabel('Name of the Athlete')\n",
        "plt.ylabel('No. of Medals Won')\n",
        "plt.title('Graph drawn by Aniket Tewari')"
      ],
      "execution_count": null,
      "outputs": [
        {
          "output_type": "execute_result",
          "data": {
            "text/plain": [
              "Text(0.5, 1.0, 'Graph drawn by Aniket Tewari')"
            ]
          },
          "metadata": {},
          "execution_count": 39
        },
        {
          "output_type": "display_data",
          "data": {
            "image/png": "[encoded data removed]",
            "text/plain": [
              "<Figure size 432x288 with 1 Axes>"
            ]
          },
          "metadata": {
            "needs_background": "light"
          }
        }
      ]
    },
    {
      "cell_type": "code",
      "metadata": {
        "id": "qDpCNK0MFYzt"
      },
      "source": [
        ""
      ],
      "execution_count": null,
      "outputs": []
    },
    {
      "cell_type": "markdown",
      "metadata": {
        "id": "-aUVRSzZLlAO"
      },
      "source": [
        "*5. Which player has won most number Gold Medals of medals? (Top 5)*"
      ]
    },
    {
      "cell_type": "code",
      "metadata": {
        "colab": {
          "base_uri": "https://localhost:8080/"
        },
        "id": "dV5r-QZaFZVU",
        "outputId": "92e6c45f-e803-4ca3-d652-9c6dec15d7ed"
      },
      "source": [
        "#Printing only Top Athlete Name\n",
        "\n",
        "e=df['Athlete'][df['Medal'] ==\"Gold\"].value_counts()\n",
        "print(\"The Required Athlete with most no. of Gold Medals is= \\n\")\n",
        "e.nlargest(1)"
      ],
      "execution_count": null,
      "outputs": [
        {
          "output_type": "stream",
          "name": "stdout",
          "text": [
            "The Required Athlete with most no. of Gold Medals is= \n",
            "\n"
          ]
        },
        {
          "output_type": "execute_result",
          "data": {
            "text/plain": [
              "PHELPS, Michael    18\n",
              "Name: Athlete, dtype: int64"
            ]
          },
          "metadata": {},
          "execution_count": 40
        }
      ]
    },
    {
      "cell_type": "code",
      "metadata": {
        "colab": {
          "base_uri": "https://localhost:8080/"
        },
        "id": "j9W2LlmsFZ0M",
        "outputId": "5b16d0ab-19d0-4cfd-d99a-32e96602c907"
      },
      "source": [
        "#Printing Top 5 Athlete Names and as well as plotting Bar Graph\n",
        "\n",
        "e=df['Athlete'][df['Medal'] ==\"Gold\"].value_counts() \n",
        "print(\"The Required Athlete with most no. of Gold Medals is= \\n\")\n",
        "e.nlargest(5)"
      ],
      "execution_count": null,
      "outputs": [
        {
          "output_type": "stream",
          "name": "stdout",
          "text": [
            "The Required Athlete with most no. of Gold Medals is= \n",
            "\n"
          ]
        },
        {
          "output_type": "execute_result",
          "data": {
            "text/plain": [
              "PHELPS, Michael     18\n",
              "NURMI, Paavo         9\n",
              "LEWIS, Carl          9\n",
              "SPITZ, Mark          9\n",
              "LATYNINA, Larisa     9\n",
              "Name: Athlete, dtype: int64"
            ]
          },
          "metadata": {},
          "execution_count": 41
        }
      ]
    },
    {
      "cell_type": "code",
      "metadata": {
        "colab": {
          "base_uri": "https://localhost:8080/",
          "height": 387
        },
        "id": "LIpuR2lJFaRe",
        "outputId": "0032898f-0736-4505-c5a8-65f5b5aa0fc4"
      },
      "source": [
        "#Printing Top 5 Athlete Names and as well as plotting Bar Graph\n",
        "\n",
        "e=df['Athlete'][df['Medal'] ==\"Gold\"].value_counts()\n",
        "e.nlargest(5).plot.bar() \n",
        "plt.xlabel('Name of the Athlete')\n",
        "plt.ylabel('No. of Gold Medals Won')\n",
        "plt.title('Graph drawn by Aniket Tewari')"
      ],
      "execution_count": null,
      "outputs": [
        {
          "output_type": "execute_result",
          "data": {
            "text/plain": [
              "Text(0.5, 1.0, 'Graph drawn by Aniket Tewari')"
            ]
          },
          "metadata": {},
          "execution_count": 42
        },
        {
          "output_type": "display_data",
          "data": {
            "image/png": "[encoded data removed]",
            "text/plain": [
              "<Figure size 432x288 with 1 Axes>"
            ]
          },
          "metadata": {
            "needs_background": "light"
          }
        }
      ]
    },
    {
      "cell_type": "code",
      "metadata": {
        "id": "-F2EgIagF3mz"
      },
      "source": [
        ""
      ],
      "execution_count": null,
      "outputs": []
    },
    {
      "cell_type": "markdown",
      "metadata": {
        "id": "ZEh7POurLpVQ"
      },
      "source": [
        "*6. In which year India won first Gold Medal in Summer Olympics?*"
      ]
    },
    {
      "cell_type": "code",
      "metadata": {
        "colab": {
          "base_uri": "https://localhost:8080/",
          "height": 230
        },
        "id": "2mhP8gagF4QH",
        "outputId": "33376a6e-b856-404b-ec02-16986cbf4d86"
      },
      "source": [
        "f=df[df['Country']=='IND'][df['Medal'] =='Gold'].index.values\n",
        "print(\"The Required Year in which India won the First Gold Medal is= \\n\")\n",
        "df.iloc[f[0]:f[0]+1,0:1]"
      ],
      "execution_count": null,
      "outputs": [
        {
          "output_type": "stream",
          "name": "stdout",
          "text": [
            "The Required Year in which India won the First Gold Medal is= \n",
            "\n"
          ]
        },
        {
          "output_type": "stream",
          "name": "stderr",
          "text": [
            "/usr/local/lib/python3.7/dist-packages/ipykernel_launcher.py:1: UserWarning: Boolean Series key will be reindexed to match DataFrame index.\n",
            "  \"\"\"Entry point for launching an IPython kernel.\n"
          ]
        },
        {
          "output_type": "execute_result",
          "data": {
            "text/html": [
              "<div>\n",
              "<style scoped>\n",
              "    .dataframe tbody tr th:only-of-type {\n",
              "        vertical-align: middle;\n",
              "    }\n",
              "\n",
              "    .dataframe tbody tr th {\n",
              "        vertical-align: top;\n",
              "    }\n",
              "\n",
              "    .dataframe thead th {\n",
              "        text-align: right;\n",
              "    }\n",
              "</style>\n",
              "<table border=\"1\" class=\"dataframe\">\n",
              "  <thead>\n",
              "    <tr style=\"text-align: right;\">\n",
              "      <th></th>\n",
              "      <th>Year</th>\n",
              "    </tr>\n",
              "  </thead>\n",
              "  <tbody>\n",
              "    <tr>\n",
              "      <th>5512</th>\n",
              "      <td>1928</td>\n",
              "    </tr>\n",
              "  </tbody>\n",
              "</table>\n",
              "</div>"
            ],
            "text/plain": [
              "      Year\n",
              "5512  1928"
            ]
          },
          "metadata": {},
          "execution_count": 43
        }
      ]
    },
    {
      "cell_type": "code",
      "metadata": {
        "colab": {
          "base_uri": "https://localhost:8080/",
          "height": 264
        },
        "id": "oFAzaoBfF43c",
        "outputId": "bbf30201-e15d-436b-a3af-ac0ca52d8300"
      },
      "source": [
        "#Another Result / Way\n",
        "\n",
        "f=df[df['Country']=='IND'][df['Medal'] =='Gold'].index.values\n",
        "print(\"The Required Year in which India won the First Gold Medal is= \\n\")\n",
        "df[f[0]:f[0]+1]"
      ],
      "execution_count": null,
      "outputs": [
        {
          "output_type": "stream",
          "name": "stdout",
          "text": [
            "The Required Year in which India won the First Gold Medal is= \n",
            "\n"
          ]
        },
        {
          "output_type": "stream",
          "name": "stderr",
          "text": [
            "/usr/local/lib/python3.7/dist-packages/ipykernel_launcher.py:3: UserWarning: Boolean Series key will be reindexed to match DataFrame index.\n",
            "  This is separate from the ipykernel package so we can avoid doing imports until\n"
          ]
        },
        {
          "output_type": "execute_result",
          "data": {
            "text/html": [
              "<div>\n",
              "<style scoped>\n",
              "    .dataframe tbody tr th:only-of-type {\n",
              "        vertical-align: middle;\n",
              "    }\n",
              "\n",
              "    .dataframe tbody tr th {\n",
              "        vertical-align: top;\n",
              "    }\n",
              "\n",
              "    .dataframe thead th {\n",
              "        text-align: right;\n",
              "    }\n",
              "</style>\n",
              "<table border=\"1\" class=\"dataframe\">\n",
              "  <thead>\n",
              "    <tr style=\"text-align: right;\">\n",
              "      <th></th>\n",
              "      <th>Year</th>\n",
              "      <th>City</th>\n",
              "      <th>Sport</th>\n",
              "      <th>Discipline</th>\n",
              "      <th>Athlete</th>\n",
              "      <th>Country</th>\n",
              "      <th>Gender</th>\n",
              "      <th>Event</th>\n",
              "      <th>Medal</th>\n",
              "    </tr>\n",
              "  </thead>\n",
              "  <tbody>\n",
              "    <tr>\n",
              "      <th>5512</th>\n",
              "      <td>1928</td>\n",
              "      <td>Amsterdam</td>\n",
              "      <td>Hockey</td>\n",
              "      <td>Hockey</td>\n",
              "      <td>ALLEN, Richard James</td>\n",
              "      <td>IND</td>\n",
              "      <td>Men</td>\n",
              "      <td>Hockey</td>\n",
              "      <td>Gold</td>\n",
              "    </tr>\n",
              "  </tbody>\n",
              "</table>\n",
              "</div>"
            ],
            "text/plain": [
              "      Year       City   Sport Discipline  ... Country Gender   Event Medal\n",
              "5512  1928  Amsterdam  Hockey     Hockey  ...     IND    Men  Hockey  Gold\n",
              "\n",
              "[1 rows x 9 columns]"
            ]
          },
          "metadata": {},
          "execution_count": 44
        }
      ]
    },
    {
      "cell_type": "code",
      "metadata": {
        "id": "4dFBPVmUPp6q"
      },
      "source": [
        ""
      ],
      "execution_count": null,
      "outputs": []
    },
    {
      "cell_type": "code",
      "metadata": {
        "id": "i-YAdqK7GAnw"
      },
      "source": [
        ""
      ],
      "execution_count": null,
      "outputs": []
    },
    {
      "cell_type": "markdown",
      "metadata": {
        "id": "pO97aV_9LuLj"
      },
      "source": [
        "*7. Which event is most popular in terms on number of players? (Top 5)*"
      ]
    },
    {
      "cell_type": "code",
      "metadata": {
        "colab": {
          "base_uri": "https://localhost:8080/"
        },
        "id": "Old-QxkrONMY",
        "outputId": "c75d15b9-71b1-4b9c-8297-f9b678d2a4c1"
      },
      "source": [
        "#Printing values and graph for Top Sports in terms of most no. of Players\n",
        "\n",
        "g=df['Sport'].value_counts()\n",
        "print(\"The Sport which is popular in terms of most no. of Players is= \\n\") \n",
        "g.nlargest(1)"
      ],
      "execution_count": null,
      "outputs": [
        {
          "output_type": "stream",
          "name": "stdout",
          "text": [
            "The Sport which is popular in terms of most no. of Players is= \n",
            "\n"
          ]
        },
        {
          "output_type": "execute_result",
          "data": {
            "text/plain": [
              "Aquatics    4170\n",
              "Name: Sport, dtype: int64"
            ]
          },
          "metadata": {},
          "execution_count": 45
        }
      ]
    },
    {
      "cell_type": "code",
      "metadata": {
        "colab": {
          "base_uri": "https://localhost:8080/"
        },
        "id": "tu9F2w1sOR6f",
        "outputId": "0331f5a7-9b14-4766-eaf8-c555eebbfb7e"
      },
      "source": [
        "#Printing values and graph for Top 5 Sports in terms of most no. of Players\n",
        "\n",
        "g=df['Sport'].value_counts()\n",
        "print(\"The Sport which is popular in terms of most no. of Players is= \\n\") \n",
        "g.nlargest(5)"
      ],
      "execution_count": null,
      "outputs": [
        {
          "output_type": "stream",
          "name": "stdout",
          "text": [
            "The Sport which is popular in terms of most no. of Players is= \n",
            "\n"
          ]
        },
        {
          "output_type": "execute_result",
          "data": {
            "text/plain": [
              "Aquatics      4170\n",
              "Athletics     3638\n",
              "Rowing        2667\n",
              "Gymnastics    2307\n",
              "Fencing       1613\n",
              "Name: Sport, dtype: int64"
            ]
          },
          "metadata": {},
          "execution_count": 47
        }
      ]
    },
    {
      "cell_type": "code",
      "metadata": {
        "colab": {
          "base_uri": "https://localhost:8080/",
          "height": 361
        },
        "id": "wRsDIXV5NYy-",
        "outputId": "55706a11-8d85-4cc1-9c72-39c198cfe907"
      },
      "source": [
        "#Plotting graph for Top 5 Sports in terms of most no. of Players\n",
        "\n",
        "g=df['Sport'].value_counts()\n",
        "g.nlargest(5).plot.bar()\n",
        "plt.xlabel('Name of the Sports')\n",
        "plt.ylabel('No. of Players')\n",
        "plt.title('Graph drawn by Aniket Tewari')"
      ],
      "execution_count": null,
      "outputs": [
        {
          "output_type": "execute_result",
          "data": {
            "text/plain": [
              "Text(0.5, 1.0, 'Graph drawn by Aniket Tewari')"
            ]
          },
          "metadata": {},
          "execution_count": 48
        },
        {
          "output_type": "display_data",
          "data": {
            "image/png": "[encoded data removed]",
            "text/plain": [
              "<Figure size 432x288 with 1 Axes>"
            ]
          },
          "metadata": {
            "needs_background": "light"
          }
        }
      ]
    },
    {
      "cell_type": "code",
      "metadata": {
        "id": "eZO3JVtVGCUx"
      },
      "source": [
        ""
      ],
      "execution_count": null,
      "outputs": []
    },
    {
      "cell_type": "markdown",
      "metadata": {
        "id": "ijZP7hgbLxru"
      },
      "source": [
        "*8. Which sport is having most female Gold Medalists? (Top 5)*"
      ]
    },
    {
      "cell_type": "code",
      "metadata": {
        "colab": {
          "base_uri": "https://localhost:8080/"
        },
        "id": "iVMopwVhE7iO",
        "outputId": "6f2bbbce-d883-4c54-b3f9-b994b12b1d39"
      },
      "source": [
        "#Printing values of Sports of Top Women Gold Medalists and plotting Bar Graph as well. \n",
        "\n",
        "h=df['Sport'][df['Medal'] ==\"Gold\"][df['Gender']==\"Women\"].value_counts()\n",
        "print(\"The Sports which is having most no. of Female Gold Medalists is= \\n\") \n",
        "h.nlargest(1)"
      ],
      "execution_count": null,
      "outputs": [
        {
          "output_type": "stream",
          "name": "stdout",
          "text": [
            "The Sports which is having most no. of Female Gold Medalists is= \n",
            "\n"
          ]
        },
        {
          "output_type": "execute_result",
          "data": {
            "text/plain": [
              "Aquatics    589\n",
              "Name: Sport, dtype: int64"
            ]
          },
          "metadata": {},
          "execution_count": 49
        }
      ]
    },
    {
      "cell_type": "code",
      "metadata": {
        "colab": {
          "base_uri": "https://localhost:8080/"
        },
        "id": "pzBX2R92Pywi",
        "outputId": "d6e34b2f-8ab1-4536-f1cd-ec014ab8f6c1"
      },
      "source": [
        "#Printing values of Sports of Top 5 Women Gold Medalists and plotting Bar Graph as well. \n",
        "\n",
        "h=df['Sport'][df['Medal'] ==\"Gold\"][df['Gender']==\"Women\"].value_counts()\n",
        "print(\"The Sports which is having most no. of Female Gold Medalists is= \\n\") \n",
        "h.nlargest(5)"
      ],
      "execution_count": null,
      "outputs": [
        {
          "output_type": "stream",
          "name": "stdout",
          "text": [
            "The Sports which is having most no. of Female Gold Medalists is= \n",
            "\n"
          ]
        },
        {
          "output_type": "execute_result",
          "data": {
            "text/plain": [
              "Aquatics      589\n",
              "Athletics     389\n",
              "Gymnastics    268\n",
              "Rowing        217\n",
              "Volleyball    166\n",
              "Name: Sport, dtype: int64"
            ]
          },
          "metadata": {},
          "execution_count": 50
        }
      ]
    },
    {
      "cell_type": "code",
      "metadata": {
        "colab": {
          "base_uri": "https://localhost:8080/",
          "height": 395
        },
        "id": "jr5x5MjzPzv2",
        "outputId": "30dd342f-9acc-4be5-c373-e32f25a2bfae"
      },
      "source": [
        "#Printing values of Top 5 Women Gold Medalists and plotting Bar Graph as well. \n",
        "\n",
        "h=df['Sport'][df['Medal'] ==\"Gold\"][df['Gender']==\"Women\"].value_counts()\n",
        "print(\"The Sports which is having most no. of Female Gold Medalists is= \\n\") \n",
        "h.nlargest(5).plot.bar()\n",
        "plt.xlabel('Name of the Sports')\n",
        "plt.ylabel('No. of Female Gold Medalists')\n",
        "plt.title('Graph drawn by Aniket Tewari')"
      ],
      "execution_count": null,
      "outputs": [
        {
          "output_type": "stream",
          "name": "stdout",
          "text": [
            "The Sports which is having most no. of Female Gold Medalists is= \n",
            "\n"
          ]
        },
        {
          "output_type": "execute_result",
          "data": {
            "text/plain": [
              "Text(0.5, 1.0, 'Graph drawn by Aniket Tewari')"
            ]
          },
          "metadata": {},
          "execution_count": 51
        },
        {
          "output_type": "display_data",
          "data": {
            "image/png": "[encoded data removed]",
            "text/plain": [
              "<Figure size 432x288 with 1 Axes>"
            ]
          },
          "metadata": {
            "needs_background": "light"
          }
        }
      ]
    },
    {
      "cell_type": "code",
      "metadata": {
        "id": "OypVpDySP0XS"
      },
      "source": [
        ""
      ],
      "execution_count": null,
      "outputs": []
    }
  ]
}